{
 "cells": [
  {
   "cell_type": "code",
   "execution_count": 2,
   "id": "2609d7d4",
   "metadata": {},
   "outputs": [
    {
     "name": "stdout",
     "output_type": "stream",
     "text": [
      "/Users/kareenakothari/Netflix_data_project\n"
     ]
    }
   ],
   "source": [
    "# Packages\n",
    "import os \n",
    "import numpy as np \n",
    "import pandas as pd\n",
    "\n",
    "print(os.getcwd())"
   ]
  },
  {
   "cell_type": "code",
   "execution_count": 5,
   "id": "590bd1c0",
   "metadata": {},
   "outputs": [
    {
     "name": "stdout",
     "output_type": "stream",
     "text": [
      "<class 'pandas.core.frame.DataFrame'>\n",
      "RangeIndex: 29927 entries, 0 to 29926\n",
      "Data columns (total 10 columns):\n",
      " #   Column                   Non-Null Count  Dtype \n",
      "---  ------                   --------------  ----- \n",
      " 0   Profile Name             29927 non-null  object\n",
      " 1   Start Time               29927 non-null  object\n",
      " 2   Duration                 29927 non-null  object\n",
      " 3   Attributes               5898 non-null   object\n",
      " 4   Title                    29927 non-null  object\n",
      " 5   Supplemental Video Type  1245 non-null   object\n",
      " 6   Device Type              29927 non-null  object\n",
      " 7   Bookmark                 29927 non-null  object\n",
      " 8   Latest Bookmark          29927 non-null  object\n",
      " 9   Country                  29927 non-null  object\n",
      "dtypes: object(10)\n",
      "memory usage: 2.3+ MB\n"
     ]
    },
    {
     "data": {
      "text/html": [
       "<div>\n",
       "<style scoped>\n",
       "    .dataframe tbody tr th:only-of-type {\n",
       "        vertical-align: middle;\n",
       "    }\n",
       "\n",
       "    .dataframe tbody tr th {\n",
       "        vertical-align: top;\n",
       "    }\n",
       "\n",
       "    .dataframe thead th {\n",
       "        text-align: right;\n",
       "    }\n",
       "</style>\n",
       "<table border=\"1\" class=\"dataframe\">\n",
       "  <thead>\n",
       "    <tr style=\"text-align: right;\">\n",
       "      <th></th>\n",
       "      <th>Profile Name</th>\n",
       "      <th>Start Time</th>\n",
       "      <th>Duration</th>\n",
       "      <th>Attributes</th>\n",
       "      <th>Title</th>\n",
       "      <th>Supplemental Video Type</th>\n",
       "      <th>Device Type</th>\n",
       "      <th>Bookmark</th>\n",
       "      <th>Latest Bookmark</th>\n",
       "      <th>Country</th>\n",
       "    </tr>\n",
       "  </thead>\n",
       "  <tbody>\n",
       "    <tr>\n",
       "      <th>0</th>\n",
       "      <td>Anil</td>\n",
       "      <td>2022-06-09 04:33:53</td>\n",
       "      <td>00:00:09</td>\n",
       "      <td>Autoplayed: user action: None;</td>\n",
       "      <td>Teaser: A Perfect Pairing</td>\n",
       "      <td>TEASER_TRAILER</td>\n",
       "      <td>Samsung 2015 Hawk-M UHD TV</td>\n",
       "      <td>00:00:09</td>\n",
       "      <td>00:00:09</td>\n",
       "      <td>US (United States)</td>\n",
       "    </tr>\n",
       "  </tbody>\n",
       "</table>\n",
       "</div>"
      ],
      "text/plain": [
       "  Profile Name           Start Time  Duration  \\\n",
       "0         Anil  2022-06-09 04:33:53  00:00:09   \n",
       "\n",
       "                        Attributes                      Title  \\\n",
       "0  Autoplayed: user action: None;   Teaser: A Perfect Pairing   \n",
       "\n",
       "  Supplemental Video Type                 Device Type  Bookmark  \\\n",
       "0          TEASER_TRAILER  Samsung 2015 Hawk-M UHD TV  00:00:09   \n",
       "\n",
       "  Latest Bookmark             Country  \n",
       "0        00:00:09  US (United States)  "
      ]
     },
     "execution_count": 5,
     "metadata": {},
     "output_type": "execute_result"
    }
   ],
   "source": [
    "# Importing all user data \n",
    "Kothari_user_data = pd.read_csv(r\"/Users/Kareenakothari/Netflix_data_project/ViewingActivity.csv\")\n",
    "\n",
    "Kothari_user_data.info()\n",
    "\n",
    "# Understanding data:\n",
    "Kothari_user_data.shape\n",
    "Kothari_user_data.head(1)"
   ]
  },
  {
   "cell_type": "code",
   "execution_count": 10,
   "id": "374c37f7",
   "metadata": {},
   "outputs": [
    {
     "name": "stdout",
     "output_type": "stream",
     "text": [
      "                 Start_Time Profile_Name  Duration                      Title  \\\n",
      "0 2022-06-08 21:33:53-07:00         Anil  00:00:09  Teaser: A Perfect Pairing   \n",
      "\n",
      "                  Device Type             Country  \n",
      "0  Samsung 2015 Hawk-M UHD TV  US (United States)  \n",
      "Start_Time      datetime64[ns, US/Pacific]\n",
      "Profile_Name                        object\n",
      "Duration                   timedelta64[ns]\n",
      "Title                               object\n",
      "Device Type                         object\n",
      "Country                             object\n",
      "dtype: object\n",
      "                 Start_Time Profile_Name        Duration  \\\n",
      "0 2022-06-08 21:33:53-07:00         Anil 0 days 00:00:09   \n",
      "\n",
      "                       Title                 Device Type             Country  \n",
      "0  Teaser: A Perfect Pairing  Samsung 2015 Hawk-M UHD TV  US (United States)  \n"
     ]
    }
   ],
   "source": [
    "#Data Cleaning \n",
    "Alluser = pd.DataFrame(Kothari_user_data.drop(['Attributes', 'Supplemental Video Type', 'Bookmark', 'Latest Bookmark'], axis=1))\n",
    "#print(Alluser.head())\n",
    "\n",
    "#Alluser.dtypes\n",
    "\n",
    "#Conversion of start time \n",
    "Alluser['Start Time'] = pd.to_datetime(Alluser['Start Time'], utc=True)\n",
    "#Alluser.dtypes\n",
    "\n",
    "\n",
    "# Renaming the profile name variable:\n",
    "Alluser.rename(columns={'Profile Name':'Profile_Name'},inplace = True)\n",
    "Alluser.rename(columns={'Start Time':'Start_Time'},inplace = True)\n",
    "#print(Alluser.head(1))\n",
    "\n",
    "# Start time column into the data frame index\n",
    "Alluser =Alluser.set_index('Start_Time')\n",
    "Alluser.index = Alluser.index.tz_convert('US/Pacific')\n",
    "Alluser = Alluser.reset_index()\n",
    "print(Alluser.head(1))\n",
    "\n",
    "# Duration Conversion\n",
    "Alluser['Duration'] = pd.to_timedelta(Alluser['Duration'])\n",
    "# Checking the data types\n",
    "print(Alluser.dtypes)\n",
    "\n",
    "\n",
    "# sorting to new dataframe\n",
    "Alluser_ = pd.DataFrame(Alluser)\n",
    "print(Alluser.head(1))\n"
   ]
  },
  {
   "cell_type": "code",
   "execution_count": 11,
   "id": "c053c192",
   "metadata": {},
   "outputs": [],
   "source": [
    "# Exporting on user: Kareenas Viewing data\n",
    "Kareenas_titles = Alluser_[Alluser_.Profile_Name == 'Kareena']\n",
    "#print(Kareenas_titles.head(1))\n",
    "Kareenas_titles.to_csv('KareenasViewData.csv')"
   ]
  },
  {
   "cell_type": "code",
   "execution_count": null,
   "id": "e5f917b3",
   "metadata": {},
   "outputs": [],
   "source": []
  }
 ],
 "metadata": {
  "kernelspec": {
   "display_name": "Python 3 (ipykernel)",
   "language": "python",
   "name": "python3"
  },
  "language_info": {
   "codemirror_mode": {
    "name": "ipython",
    "version": 3
   },
   "file_extension": ".py",
   "mimetype": "text/x-python",
   "name": "python",
   "nbconvert_exporter": "python",
   "pygments_lexer": "ipython3",
   "version": "3.9.7"
  }
 },
 "nbformat": 4,
 "nbformat_minor": 5
}
