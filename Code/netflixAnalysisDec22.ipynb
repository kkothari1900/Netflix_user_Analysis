{
 "cells": [
  {
   "cell_type": "markdown",
   "id": "5e049feb",
   "metadata": {},
   "source": [
    "##  Overview\n",
    "######  In this notebook of code we cleaned the data, reformated and filtered the data using the numpy , pandas libraries \n",
    "At first glance \n",
    " - The variables that include spaces in their names needed to be filled with an _ . This is because it is more efficient for filtering and calling the variables in a function \n",
    " - Start time variable included date and time stamp must be seperated\n",
    " - From a seperated start time date, month and year will be filtered out into seperate columns \n",
    " - The format of two columns: Attributes, Title, and Supplemental video type will all be reformated to lower case for convenience when data is visualized \n",
    " - The time stamp however only needed its own column. It is originally in a 12-hour format \n",
    " - Lastly this dataset will only be filtered for Kareena's watch history and exported into a csv file \n",
    " - This csv file will then be used in building a dashoard "
   ]
  },
  {
   "cell_type": "code",
   "execution_count": 2,
   "id": "2c679b4d",
   "metadata": {},
   "outputs": [],
   "source": [
    "# Importing Libraries \n",
    "import os \n",
    "import sys\n",
    "import pandas as pd\n",
    "import numpy as np\n"
   ]
  },
  {
   "cell_type": "code",
   "execution_count": 3,
   "id": "305aff45",
   "metadata": {},
   "outputs": [
    {
     "name": "stdout",
     "output_type": "stream",
     "text": [
      "  Profile Name           Start Time  Duration  \\\n",
      "0         Anil  2022-06-09 04:33:53  00:00:09   \n",
      "1         Anil  2022-05-27 06:20:49  00:01:50   \n",
      "2         Anil  2022-05-27 06:18:42  00:02:03   \n",
      "3         Anil  2022-05-27 06:17:54  00:00:45   \n",
      "4         Anil  2022-05-27 02:44:23  02:29:17   \n",
      "\n",
      "                                    Attributes  \\\n",
      "0              Autoplayed: user action: None;    \n",
      "1                                          NaN   \n",
      "2                                          NaN   \n",
      "3              Autoplayed: user action: None;    \n",
      "4  Autoplayed: user action: User_Interaction;    \n",
      "\n",
      "                                  Title Supplemental Video Type  \\\n",
      "0             Teaser: A Perfect Pairing          TEASER_TRAILER   \n",
      "1  Season 1 Trailer: The Lincoln Lawyer                 TRAILER   \n",
      "2            Trailer: A Perfect Pairing                 TRAILER   \n",
      "3                 RRR_hook_primary_16x9                    HOOK   \n",
      "4                   Gangubai Kathiawadi                     NaN   \n",
      "\n",
      "                  Device Type  Bookmark Latest Bookmark             Country  \n",
      "0  Samsung 2015 Hawk-M UHD TV  00:00:09        00:00:09  US (United States)  \n",
      "1  Samsung 2015 Hawk-M UHD TV  00:01:50        00:01:50  US (United States)  \n",
      "2  Samsung 2015 Hawk-M UHD TV  00:02:03        00:02:03  US (United States)  \n",
      "3  Samsung 2015 Hawk-M UHD TV  00:00:45        00:00:45  US (United States)  \n",
      "4  Samsung 2015 Hawk-M UHD TV  02:28:41        02:28:41  US (United States)  \n"
     ]
    }
   ],
   "source": [
    "#Reading in viewing activity \n",
    "netflix = pd.read_csv(\"C:/Users/Kareena/Documents/Personal_Projects/Netflix_project/ViewingActivity.csv\")\n",
    "# There are 10 columns and 29927 rows\n",
    "netflix.shape \n",
    "print(netflix.head())"
   ]
  },
  {
   "cell_type": "code",
   "execution_count": 4,
   "id": "a37568ba",
   "metadata": {
    "scrolled": true
   },
   "outputs": [
    {
     "name": "stdout",
     "output_type": "stream",
     "text": [
      "<class 'pandas.core.frame.DataFrame'>\n",
      "RangeIndex: 29927 entries, 0 to 29926\n",
      "Data columns (total 10 columns):\n",
      " #   Column                   Non-Null Count  Dtype \n",
      "---  ------                   --------------  ----- \n",
      " 0   Profile Name             29927 non-null  object\n",
      " 1   Start Time               29927 non-null  object\n",
      " 2   Duration                 29927 non-null  object\n",
      " 3   Attributes               5898 non-null   object\n",
      " 4   Title                    29927 non-null  object\n",
      " 5   Supplemental Video Type  1245 non-null   object\n",
      " 6   Device Type              29927 non-null  object\n",
      " 7   Bookmark                 29927 non-null  object\n",
      " 8   Latest Bookmark          29927 non-null  object\n",
      " 9   Country                  29927 non-null  object\n",
      "dtypes: object(10)\n",
      "memory usage: 2.3+ MB\n"
     ]
    }
   ],
   "source": [
    "# Understanding the dataset\n",
    "netflix.info()"
   ]
  },
  {
   "cell_type": "markdown",
   "id": "253139f7",
   "metadata": {},
   "source": [
    "# Data types of the data set \n",
    "- All 10 fields data types are objects \n",
    "    - Profile name (string)\n",
    "    - Start Time (time)\n",
    "    - Duration (time)\n",
    "    - Attributes (string)\n",
    "    - Title (string)\n",
    "    - Supplemental Video Type (string)\n",
    "    - Device Type (string)\n",
    "    - Bookmark (time)\n",
    "    - Latest Bookmark (time)\n",
    "    - Country (string) "
   ]
  },
  {
   "cell_type": "code",
   "execution_count": 5,
   "id": "9c4b4aaf",
   "metadata": {},
   "outputs": [],
   "source": [
    "#Conversion of Start TIme\n",
    "netflix['Start Time'] = pd.to_datetime(netflix['Start Time'],utc = True)"
   ]
  },
  {
   "cell_type": "code",
   "execution_count": 6,
   "id": "4bec7690",
   "metadata": {},
   "outputs": [
    {
     "name": "stdout",
     "output_type": "stream",
     "text": [
      "Profile_Name                            object\n",
      "Start_Time                 datetime64[ns, UTC]\n",
      "Duration                                object\n",
      "Attributes                              object\n",
      "Title                                   object\n",
      "Supplemental_Video_Type                 object\n",
      "Device_Type                             object\n",
      "Bookmark                                object\n",
      "Latest_Bookmark                         object\n",
      "Country                                 object\n",
      "dtype: object\n"
     ]
    }
   ],
   "source": [
    "#Renaming variables with _ for space \n",
    "netflix.rename(columns = {'Profile Name':'Profile_Name'},inplace = True)\n",
    "netflix.rename(columns = {'Start Time':'Start_Time'},inplace = True)\n",
    "netflix.rename(columns = {'Supplemental Video Type':'Supplemental_Video_Type'},inplace = True)\n",
    "netflix.rename(columns = {'Device Type':'Device_Type'},inplace = True)\n",
    "netflix.rename(columns = {'Latest Bookmark':'Latest_Bookmark'},inplace = True)\n",
    "\n",
    "print(netflix.dtypes)\n"
   ]
  },
  {
   "cell_type": "code",
   "execution_count": 7,
   "id": "0ae472ad",
   "metadata": {},
   "outputs": [
    {
     "name": "stdout",
     "output_type": "stream",
     "text": [
      "  Profile_Name                Start_Time  Duration  \\\n",
      "0         Anil 2022-06-09 04:33:53+00:00  00:00:09   \n",
      "1         Anil 2022-05-27 06:20:49+00:00  00:01:50   \n",
      "2         Anil 2022-05-27 06:18:42+00:00  00:02:03   \n",
      "3         Anil 2022-05-27 06:17:54+00:00  00:00:45   \n",
      "4         Anil 2022-05-27 02:44:23+00:00  02:29:17   \n",
      "\n",
      "                                    Attributes  \\\n",
      "0              Autoplayed: user action: None;    \n",
      "1                                          NaN   \n",
      "2                                          NaN   \n",
      "3              Autoplayed: user action: None;    \n",
      "4  Autoplayed: user action: User_Interaction;    \n",
      "\n",
      "                                  Title Supplemental_Video_Type  \\\n",
      "0             Teaser: A Perfect Pairing          TEASER_TRAILER   \n",
      "1  Season 1 Trailer: The Lincoln Lawyer                 TRAILER   \n",
      "2            Trailer: A Perfect Pairing                 TRAILER   \n",
      "3                 RRR_hook_primary_16x9                    HOOK   \n",
      "4                   Gangubai Kathiawadi                     NaN   \n",
      "\n",
      "                  Device_Type  Bookmark Latest_Bookmark             Country  \\\n",
      "0  Samsung 2015 Hawk-M UHD TV  00:00:09        00:00:09  US (United States)   \n",
      "1  Samsung 2015 Hawk-M UHD TV  00:01:50        00:01:50  US (United States)   \n",
      "2  Samsung 2015 Hawk-M UHD TV  00:02:03        00:02:03  US (United States)   \n",
      "3  Samsung 2015 Hawk-M UHD TV  00:00:45        00:00:45  US (United States)   \n",
      "4  Samsung 2015 Hawk-M UHD TV  02:28:41        02:28:41  US (United States)   \n",
      "\n",
      "                       Date      Time  \n",
      "0 2022-06-09 00:00:00+00:00  04:33:53  \n",
      "1 2022-05-27 00:00:00+00:00  06:20:49  \n",
      "2 2022-05-27 00:00:00+00:00  06:18:42  \n",
      "3 2022-05-27 00:00:00+00:00  06:17:54  \n",
      "4 2022-05-27 00:00:00+00:00  02:44:23  \n",
      "Profile_Name                            object\n",
      "Start_Time                 datetime64[ns, UTC]\n",
      "Duration                                object\n",
      "Attributes                              object\n",
      "Title                                   object\n",
      "Supplemental_Video_Type                 object\n",
      "Device_Type                             object\n",
      "Bookmark                                object\n",
      "Latest_Bookmark                         object\n",
      "Country                                 object\n",
      "Date                       datetime64[ns, UTC]\n",
      "Time                                    object\n",
      "dtype: object\n"
     ]
    }
   ],
   "source": [
    "netflix['Start_Time'] = pd.to_datetime(netflix['Start_Time'])\n",
    "netflix['Date'],netflix['Time']=netflix['Start_Time'].dt.normalize(),netflix['Start_Time'].dt.time\n",
    "print(netflix.head())\n",
    "print(netflix.dtypes)"
   ]
  },
  {
   "cell_type": "code",
   "execution_count": 13,
   "id": "9544ef54",
   "metadata": {},
   "outputs": [],
   "source": [
    "# Seperating Month and Year into their own columns \n",
    "netflix['Month'] = netflix['Start_Time'].dt.month\n",
    "netflix['Year'] = netflix['Start_Time'].dt.year"
   ]
  },
  {
   "cell_type": "code",
   "execution_count": 14,
   "id": "80899219",
   "metadata": {},
   "outputs": [
    {
     "name": "stdout",
     "output_type": "stream",
     "text": [
      "Profile_Name                            object\n",
      "Start_Time                 datetime64[ns, UTC]\n",
      "Duration                                object\n",
      "Attributes                              object\n",
      "Title                                   object\n",
      "Supplemental_Video_Type                 object\n",
      "Device_Type                             object\n",
      "Bookmark                                object\n",
      "Latest_Bookmark                         object\n",
      "Country                                 object\n",
      "Date                       datetime64[ns, UTC]\n",
      "Time                                    object\n",
      "Month                                    int64\n",
      "Year                                     int64\n",
      "dtype: object\n",
      "  Profile_Name                Start_Time  Duration  \\\n",
      "0         Anil 2022-06-09 04:33:53+00:00  00:00:09   \n",
      "1         Anil 2022-05-27 06:20:49+00:00  00:01:50   \n",
      "2         Anil 2022-05-27 06:18:42+00:00  00:02:03   \n",
      "3         Anil 2022-05-27 06:17:54+00:00  00:00:45   \n",
      "4         Anil 2022-05-27 02:44:23+00:00  02:29:17   \n",
      "\n",
      "                                    Attributes  \\\n",
      "0              Autoplayed: user action: None;    \n",
      "1                                          NaN   \n",
      "2                                          NaN   \n",
      "3              Autoplayed: user action: None;    \n",
      "4  Autoplayed: user action: User_Interaction;    \n",
      "\n",
      "                                  Title Supplemental_Video_Type  \\\n",
      "0             Teaser: A Perfect Pairing          TEASER_TRAILER   \n",
      "1  Season 1 Trailer: The Lincoln Lawyer                 TRAILER   \n",
      "2            Trailer: A Perfect Pairing                 TRAILER   \n",
      "3                 RRR_hook_primary_16x9                    HOOK   \n",
      "4                   Gangubai Kathiawadi                     NaN   \n",
      "\n",
      "                  Device_Type  Bookmark Latest_Bookmark             Country  \\\n",
      "0  Samsung 2015 Hawk-M UHD TV  00:00:09        00:00:09  US (United States)   \n",
      "1  Samsung 2015 Hawk-M UHD TV  00:01:50        00:01:50  US (United States)   \n",
      "2  Samsung 2015 Hawk-M UHD TV  00:02:03        00:02:03  US (United States)   \n",
      "3  Samsung 2015 Hawk-M UHD TV  00:00:45        00:00:45  US (United States)   \n",
      "4  Samsung 2015 Hawk-M UHD TV  02:28:41        02:28:41  US (United States)   \n",
      "\n",
      "                       Date      Time  Month  Year  \n",
      "0 2022-06-09 00:00:00+00:00  04:33:53      6  2022  \n",
      "1 2022-05-27 00:00:00+00:00  06:20:49      5  2022  \n",
      "2 2022-05-27 00:00:00+00:00  06:18:42      5  2022  \n",
      "3 2022-05-27 00:00:00+00:00  06:17:54      5  2022  \n",
      "4 2022-05-27 00:00:00+00:00  02:44:23      5  2022  \n"
     ]
    }
   ],
   "source": [
    "print(netflix.dtypes)\n",
    "print(netflix.head())"
   ]
  },
  {
   "cell_type": "code",
   "execution_count": 19,
   "id": "13b34263",
   "metadata": {},
   "outputs": [],
   "source": [
    "# Making Attributes and Title all lowercase (Easier to filter)\n",
    "netflix['Title'] = netflix['Title'].str.lower()\n",
    "netflix['Supplemental_Video_Type'] = netflix['Supplemental_Video_Type'].str.lower()\n",
    "netflix['Attributes'] = netflix['Attributes'].str.lower()"
   ]
  },
  {
   "cell_type": "code",
   "execution_count": 26,
   "id": "6ea49753",
   "metadata": {},
   "outputs": [],
   "source": [
    "#print(netflix.head())\n",
    "kareenaNetflixHistory = netflix[netflix.Profile_Name =='Kareena']\n",
    "kareenaNetflixHistory.shape \n",
    "netflix.isnull().sum() ## -- Checking NA values in each column (Attributes: 24029, Supplemental Video Type: 28682)\n",
    "\n",
    "# To fill in those Nan Values for description : Not_applicable, ALL lower case\n",
    "netflix.fillna('not_applicable',inplace=True)"
   ]
  },
  {
   "cell_type": "code",
   "execution_count": 28,
   "id": "2b138507",
   "metadata": {},
   "outputs": [
    {
     "name": "stdout",
     "output_type": "stream",
     "text": [
      "     Profile_Name                Start_Time  Duration      Attributes  \\\n",
      "2337      Kareena 2022-06-15 19:35:10+00:00  00:02:27  not_applicable   \n",
      "2338      Kareena 2022-06-15 19:34:11+00:00  00:00:41  not_applicable   \n",
      "2339      Kareena 2022-06-15 18:34:18+00:00  00:01:03  not_applicable   \n",
      "2340      Kareena 2022-06-15 18:13:11+00:00  00:05:03  not_applicable   \n",
      "2341      Kareena 2022-06-15 18:08:30+00:00  00:04:03  not_applicable   \n",
      "\n",
      "                                                  Title  \\\n",
      "2337  grey's anatomy: season 17: someone saved my li...   \n",
      "2338  grey's anatomy: season 17: i'm still standing ...   \n",
      "2339  grey's anatomy: season 17: i'm still standing ...   \n",
      "2340  grey's anatomy: season 17: tradition (episode 15)   \n",
      "2341  grey's anatomy: season 17: look up child (epis...   \n",
      "\n",
      "     Supplemental_Video_Type    Device_Type  Bookmark  Latest_Bookmark  \\\n",
      "2337          not_applicable  iPhone 12 Pro  00:20:18         00:20:18   \n",
      "2338          not_applicable  iPhone 12 Pro  00:41:49         00:41:49   \n",
      "2339          not_applicable  iPhone 12 Pro  00:36:20  Not latest view   \n",
      "2340          not_applicable  iPhone 12 Pro  00:42:30         00:42:30   \n",
      "2341          not_applicable  iPhone 12 Pro  00:42:37         00:42:37   \n",
      "\n",
      "                 Country                      Date      Time  Month  Year  \n",
      "2337  US (United States) 2022-06-15 00:00:00+00:00  19:35:10      6  2022  \n",
      "2338  US (United States) 2022-06-15 00:00:00+00:00  19:34:11      6  2022  \n",
      "2339  US (United States) 2022-06-15 00:00:00+00:00  18:34:18      6  2022  \n",
      "2340  US (United States) 2022-06-15 00:00:00+00:00  18:13:11      6  2022  \n",
      "2341  US (United States) 2022-06-15 00:00:00+00:00  18:08:30      6  2022  \n"
     ]
    },
    {
     "data": {
      "text/plain": [
       "Profile_Name               0\n",
       "Start_Time                 0\n",
       "Duration                   0\n",
       "Attributes                 0\n",
       "Title                      0\n",
       "Supplemental_Video_Type    0\n",
       "Device_Type                0\n",
       "Bookmark                   0\n",
       "Latest_Bookmark            0\n",
       "Country                    0\n",
       "Date                       0\n",
       "Time                       0\n",
       "Month                      0\n",
       "Year                       0\n",
       "dtype: int64"
      ]
     },
     "execution_count": 28,
     "metadata": {},
     "output_type": "execute_result"
    }
   ],
   "source": [
    "print(kareenaNetflixHistory.head())\n"
   ]
  },
  {
   "cell_type": "code",
   "execution_count": 29,
   "id": "54f91a9b",
   "metadata": {},
   "outputs": [
    {
     "data": {
      "text/plain": [
       "(22067, 14)"
      ]
     },
     "execution_count": 29,
     "metadata": {},
     "output_type": "execute_result"
    }
   ],
   "source": [
    "# Filtering only for Kareenas Viewing Activity \n",
    "kareenaNetflixHistory = netflix[netflix.Profile_Name =='Kareena']\n",
    "\n",
    "kareenaNetflixHistory.to_csv('kareenaNeflixHistory.csv')\n",
    "\n",
    "# Originally there were 10 columns and 29927 rows, now filtered there are 22067 rows \n",
    "kareenaNetflixHistory.shape "
   ]
  }
 ],
 "metadata": {
  "kernelspec": {
   "display_name": "Python 3 (ipykernel)",
   "language": "python",
   "name": "python3"
  },
  "language_info": {
   "codemirror_mode": {
    "name": "ipython",
    "version": 3
   },
   "file_extension": ".py",
   "mimetype": "text/x-python",
   "name": "python",
   "nbconvert_exporter": "python",
   "pygments_lexer": "ipython3",
   "version": "3.10.9"
  }
 },
 "nbformat": 4,
 "nbformat_minor": 5
}
